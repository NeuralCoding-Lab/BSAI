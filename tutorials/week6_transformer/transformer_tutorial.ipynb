{
  "cells": [
    {
      "cell_type": "markdown",
      "id": "e8fccf2d",
      "metadata": {
        "id": "e8fccf2d"
      },
      "source": [
        "# Transformer Tutorial — From Scratch then PyTorch `nn.Transformer`\n",
        "\n",
        "**Format:** formal tutorial, runnable.  \n",
        "**What you'll learn (high-level):**\n",
        "\n",
        "1. Implement **scaled dot-product self-attention** from scratch.  \n",
        "2. Build **multi-head attention** and verify against `nn.MultiheadAttention`.  \n",
        "3. Implement a **Transformer encoder block** with residuals, layer-norm, and feed-forward.  \n",
        "4. Add **causal (masked) attention** and construct a simple Transformer decoder for autoregressive prediction.  \n",
        "5. Compare a **self-defined Transformer** with PyTorch's **packed** `nn.Transformer` on identical inputs (numerical closeness checks).  \n",
        "6. Train both models on a small dataset (Tiny Shakespeare) and compare loss/accuracy.\n",
        "\n",
        "Each exercise is presented as code cells followed by verification checks students can run to confirm correctness. The notebook is self-contained and executable locally (it will download the dataset from the web at runtime).\n",
        "\n",
        "**Notes for instructors / students:** run cells sequentially. If you want faster runs, reduce `d_model`, `num_heads`, sequence lengths, and training epochs in the training section.\n"
      ]
    },
    {
      "cell_type": "code",
      "execution_count": 1,
      "id": "3c9ea6b5",
      "metadata": {
        "colab": {
          "base_uri": "https://localhost:8080/"
        },
        "id": "3c9ea6b5",
        "outputId": "18a62d32-7888-4e10-928f-110de42d9ffd"
      },
      "outputs": [
        {
          "output_type": "stream",
          "name": "stdout",
          "text": [
            "PyTorch version: 2.8.0+cu126\n",
            "Device: cpu\n"
          ]
        }
      ],
      "source": [
        "# Setup: imports and helper utilities\n",
        "import math\n",
        "import os\n",
        "import sys\n",
        "from pathlib import Path\n",
        "import time\n",
        "import urllib.request\n",
        "\n",
        "import torch\n",
        "import torch.nn as nn\n",
        "import torch.nn.functional as F\n",
        "from torch.utils.data import Dataset, DataLoader\n",
        "\n",
        "# reproducibility\n",
        "torch.manual_seed(0)\n",
        "\n",
        "print('PyTorch version:', torch.__version__)\n",
        "print('Device:', 'cuda' if torch.cuda.is_available() else 'cpu')\n"
      ]
    },
    {
      "cell_type": "markdown",
      "id": "ea50e1da",
      "metadata": {
        "id": "ea50e1da"
      },
      "source": [
        "## 1) Scaled Dot-Product Self-Attention (from scratch)\n",
        "\n",
        "We will implement the core attention computation:\n",
        "\n",
        "$\\mathrm{Attention}(Q,K,V)=\\mathrm{softmax}\\left(\\frac{QK^\\top}{\\sqrt{d_k}}\\right)V$\n",
        "\n",
        "We'll provide a PyTorch `nn.Module` that:\n",
        "- projects input `x` to queries, keys, values with `nn.Linear`\n",
        "- computes attention scores, softmax, and returns output and attention weights\n",
        "\n",
        "This is expected to operate on input shape `(batch, seq_len, d_model)` and return the same output shape.\n"
      ]
    },
    {
      "cell_type": "code",
      "execution_count": null,
      "id": "8f6866ee",
      "metadata": {
        "id": "8f6866ee"
      },
      "outputs": [],
      "source": [
        "class SelfAttention(nn.Module):\n",
        "    def __init__(self, d_model):\n",
        "        super().__init__()\n",
        "        self.d_model = d_model\n",
        "        self.query = nn.Linear(d_model, d_model)\n",
        "        self.key   = nn.Linear(d_model, d_model)\n",
        "        self.value = nn.Linear(d_model, d_model)\n",
        "        # scale factor uses sqrt(d_k)\n",
        "        self.scale = math.sqrt(d_model)\n",
        "\n",
        "    def forward(self, x, mask=None):\n",
        "        # x: [B, T, D]\n",
        "        Q = self.query(x)\n",
        "        K = self.key(x)\n",
        "        V = self.value(x)\n",
        "        # scores: [B, T, T]\n",
        "        scores = torch.bmm(Q, K.transpose(1,2)) / self.scale\n",
        "        if mask is not None:\n",
        "            # mask expected to contain -inf for blocked positions (or very negative)\n",
        "            scores = scores + mask\n",
        "        weights = F.softmax(scores, dim=-1)\n",
        "        out = torch.bmm(weights, V)\n",
        "        return out, weights\n",
        "\n"
      ]
    },
    {
      "cell_type": "markdown",
      "id": "75bb7197",
      "metadata": {
        "id": "75bb7197"
      },
      "source": [
        "### Verification\n",
        "Check that attention weights sum to 1 across the last dimension.\n"
      ]
    },
    {
      "cell_type": "code",
      "execution_count": null,
      "id": "7ebba253",
      "metadata": {
        "id": "7ebba253"
      },
      "outputs": [],
      "source": [
        "\n",
        "# Quick unit test\n",
        "B, T, D = 2, 4, 8\n",
        "x = torch.randn(B, T, D)\n",
        "att = SelfAttention(D)\n",
        "out, w = att(x)\n",
        "print('out.shape =', out.shape)\n",
        "print('weights.shape =', w.shape)\n",
        "print('row sums (first example):', w[0].sum(dim=-1))\n"
      ]
    },
    {
      "cell_type": "markdown",
      "id": "d5114a00",
      "metadata": {
        "id": "d5114a00"
      },
      "source": [
        "## 2) Multi-Head Attention\n",
        "\n",
        "Multi-head attention runs several attention 'heads' in parallel, each with smaller `d_k = d_model/num_heads`, then concatenates the outputs and applies a final linear projection.\n",
        "\n",
        "We'll implement `MultiHeadSelfAttention` and then compare its output with `torch.nn.MultiheadAttention` (after reshaping inputs appropriately).\n"
      ]
    },
    {
      "cell_type": "code",
      "execution_count": null,
      "id": "4d3c6768",
      "metadata": {
        "id": "4d3c6768"
      },
      "outputs": [],
      "source": [
        "class MultiHeadSelfAttention(nn.Module):\n",
        "    def __init__(self, d_model, num_heads):\n",
        "        super().__init__()\n",
        "        assert d_model % num_heads == 0, 'd_model must be divisible by num_heads'\n",
        "        self.d_model = d_model\n",
        "        self.num_heads = num_heads\n",
        "        self.d_k = d_model // num_heads\n",
        "        # use single large linear and reshape trick for simplicity\n",
        "        self.qkv = nn.Linear(d_model, d_model * 3)\n",
        "        self.out_proj = nn.Linear(d_model, d_model)\n",
        "        self.scale = math.sqrt(self.d_k)\n",
        "\n",
        "    def forward(self, x, mask=None):\n",
        "        # x: [B, T, D]\n",
        "        B, T, D = x.shape\n",
        "        qkv = self.qkv(x)  # [B, T, 3D]\n",
        "        qkv = qkv.view(B, T, 3, self.num_heads, self.d_k)  # [B, T, 3, H, d_k]\n",
        "        q, k, v = qkv[:,:,0], qkv[:,:,1], qkv[:,:,2]  # each [B, T, H, d_k]\n",
        "        # transpose to [B, H, T, d_k]\n",
        "        q = q.permute(0,2,1,3)\n",
        "        k = k.permute(0,2,1,3)\n",
        "        v = v.permute(0,2,1,3)\n",
        "        # compute scaled dot-product for each head\n",
        "        # reshape for batched matmul: combine B and H\n",
        "        q = q.contiguous().view(B*self.num_heads, T, self.d_k)\n",
        "        k = k.contiguous().view(B*self.num_heads, T, self.d_k)\n",
        "        v = v.contiguous().view(B*self.num_heads, T, self.d_k)\n",
        "        scores = torch.bmm(q, k.transpose(1,2)) / self.scale  # [B*H, T, T]\n",
        "        if mask is not None:\n",
        "            # mask must be broadcastable to [B*H, T, T]\n",
        "            scores = scores + mask\n",
        "        weights = F.softmax(scores, dim=-1)\n",
        "        out = torch.bmm(weights, v)  # [B*H, T, d_k]\n",
        "        out = out.view(B, self.num_heads, T, self.d_k).permute(0,2,1,3).contiguous()\n",
        "        out = out.view(B, T, D)\n",
        "        out = self.out_proj(out)\n",
        "        return out, weights.view(B, self.num_heads, T, T)\n",
        "\n",
        "# Simple smoke test\n",
        "B, T, D = 2, 5, 12\n",
        "x = torch.randn(B, T, D)\n",
        "mha = MultiHeadSelfAttention(D, num_heads=3)\n",
        "out, w = mha(x)\n",
        "print('out.shape', out.shape)\n",
        "print('weights.shape', w.shape)\n"
      ]
    },
    {
      "cell_type": "markdown",
      "id": "d2d66a7e",
      "metadata": {
        "id": "d2d66a7e"
      },
      "source": [
        "## 3) Transformer Encoder Block\n",
        "\n",
        "An encoder block consists of:\n",
        "- Multi-head self-attention + residual + layer-norm\n",
        "- Position-wise feed-forward network (two linear layers with ReLU) + residual + layer-norm\n",
        "\n",
        "We'll implement `TransformerEncoderLayerSimple` inspired by the original paper but in an educational, explicit form.\n"
      ]
    },
    {
      "cell_type": "code",
      "execution_count": null,
      "id": "f995a1b2",
      "metadata": {
        "id": "f995a1b2"
      },
      "outputs": [],
      "source": [
        "class FeedForward(nn.Module):\n",
        "    def __init__(self, d_model, d_ff, dropout=0.1):\n",
        "        super().__init__()\n",
        "        self.net = nn.Sequential(\n",
        "            nn.Linear(d_model, d_ff),\n",
        "            nn.ReLU(),\n",
        "            nn.Linear(d_ff, d_model),\n",
        "            nn.Dropout(dropout)\n",
        "        )\n",
        "    def forward(self, x):\n",
        "        return self.net(x)\n",
        "\n",
        "class TransformerEncoderLayerSimple(nn.Module):\n",
        "    def __init__(self, d_model, num_heads, d_ff, dropout=0.1):\n",
        "        super().__init__()\n",
        "        self.mha = MultiHeadSelfAttention(d_model, num_heads)\n",
        "        self.ln1 = nn.LayerNorm(d_model)\n",
        "        self.ff = FeedForward(d_model, d_ff, dropout)\n",
        "        self.ln2 = nn.LayerNorm(d_model)\n",
        "        self.dropout = nn.Dropout(dropout)\n",
        "\n",
        "    def forward(self, x, mask=None):\n",
        "        # Self-attention block\n",
        "        attn_out, _ = self.mha(x, mask=mask)\n",
        "        x = x + self.dropout(attn_out)\n",
        "        x = self.ln1(x)\n",
        "        # Feed-forward block\n",
        "        ff_out = self.ff(x)\n",
        "        x = x + self.dropout(ff_out)\n",
        "        x = self.ln2(x)\n",
        "        return x\n",
        "\n",
        "# smoke test\n",
        "B, T, D = 2, 6, 12\n",
        "enc = TransformerEncoderLayerSimple(D, num_heads=3, d_ff=48)\n",
        "x = torch.randn(B, T, D)\n",
        "out = enc(x)\n",
        "print('out.shape', out.shape)\n"
      ]
    },
    {
      "cell_type": "markdown",
      "id": "bc935463",
      "metadata": {
        "id": "bc935463"
      },
      "source": [
        "## 4) Positional Encoding & Small Transformer (Encoder or Decoder)\n",
        "\n",
        "Transformers are position-agnostic; we add sinusoidal positional encodings (or learned embeddings). We'll implement sinusoidal positional encodings and a small model that stacks multiple encoder layers.\n",
        "\n",
        "For each position $pos$ (e.g., 0, 1, 2, 3, …) and each dimension $i$ of the model’s hidden size $d_{model}$, we define the sinusoidal positional encoding as:\n",
        "\n",
        "$\\mathrm{PE}_{(pos,\\,2i)} = \\sin\\!\\left(\\frac{pos}{10000^{2i/d_{\\mathrm{model}}}}\\right)$\n",
        "\n",
        "\n",
        "$\\mathrm{PE}_{(pos,\\,2i+1)} = \\cos\\!\\left(\\frac{pos}{10000^{2i/d_{\\mathrm{model}}}}\\right)$\n",
        "\n"
      ]
    },
    {
      "cell_type": "code",
      "execution_count": null,
      "id": "737d304a",
      "metadata": {
        "id": "737d304a"
      },
      "outputs": [],
      "source": [
        "class SinusoidalPositionalEncoding(nn.Module):\n",
        "    def __init__(self, d_model, max_len=5000):\n",
        "        super().__init__()\n",
        "        pe = torch.zeros(max_len, d_model)\n",
        "        position = torch.arange(0, max_len).unsqueeze(1)\n",
        "        div_term = torch.exp(torch.arange(0, d_model, 2) * -(math.log(10000.0) / d_model))\n",
        "        pe[:, 0::2] = torch.sin(position * div_term)\n",
        "        pe[:, 1::2] = torch.cos(position * div_term)\n",
        "        pe = pe.unsqueeze(0)  # [1, max_len, d_model]\n",
        "        self.register_buffer('pe', pe)\n",
        "\n",
        "    def forward(self, x):\n",
        "        # x: [B, T, D]\n",
        "        return x + self.pe[:, :x.size(1)]\n",
        "\n",
        "class SimpleTransformerEncoder(nn.Module):\n",
        "    def __init__(self, vocab_size, d_model=128, num_heads=4, d_ff=512, num_layers=2, max_len=512):\n",
        "        super().__init__()\n",
        "        self.tok_emb = nn.Embedding(vocab_size, d_model)\n",
        "        self.pos_enc = SinusoidalPositionalEncoding(d_model, max_len=max_len)\n",
        "        self.layers = nn.ModuleList([\n",
        "            TransformerEncoderLayerSimple(d_model, num_heads, d_ff)\n",
        "            for _ in range(num_layers)\n",
        "        ])\n",
        "        self.ln = nn.LayerNorm(d_model)\n",
        "        self.output_proj = nn.Linear(d_model, vocab_size)\n",
        "\n",
        "    def forward(self, idx, mask=None):\n",
        "        # idx: [B, T] token indices\n",
        "        x = self.tok_emb(idx)\n",
        "        x = self.pos_enc(x)\n",
        "        for layer in self.layers:\n",
        "            x = layer(x, mask=mask)\n",
        "        x = self.ln(x)\n",
        "        logits = self.output_proj(x)\n",
        "        return logits\n",
        "\n",
        "# smoke test with tiny vocab\n",
        "vocab_size = 50\n",
        "model = SimpleTransformerEncoder(vocab_size, d_model=64, num_heads=4, d_ff=128, num_layers=2)\n",
        "B, T = 2, 10\n",
        "idx = torch.randint(0, vocab_size, (B, T))\n",
        "logits = model(idx)\n",
        "print('logits.shape', logits.shape)  # [B, T, vocab_size]\n"
      ]
    },
    {
      "cell_type": "markdown",
      "id": "b97ee374",
      "metadata": {
        "id": "b97ee374"
      },
      "source": [
        "## 5) Tiny Shakespeare dataset & training utilities\n",
        "\n",
        "We'll use Karpathy's Tiny Shakespeare (~1 MB) for a character-level language modeling task (next-character prediction). The notebook will download the raw text at runtime. If running offline, place the file at `data/tiny_shakespeare.txt`.\n",
        "\n",
        "We'll create a small `Dataset` to produce fixed-length sequences and targets for next-token prediction.\n"
      ]
    },
    {
      "cell_type": "code",
      "execution_count": null,
      "id": "a66ef595",
      "metadata": {
        "id": "a66ef595"
      },
      "outputs": [],
      "source": [
        "# Download dataset (if not present)\n",
        "data_dir = Path('data')\n",
        "data_dir.mkdir(exist_ok=True)\n",
        "url = 'https://raw.githubusercontent.com/karpathy/char-rnn/master/data/tinyshakespeare/input.txt'\n",
        "local_path = data_dir / 'tiny_shakespeare.txt'\n",
        "if not local_path.exists():\n",
        "    print('Downloading Tiny Shakespeare...')\n",
        "    urllib.request.urlretrieve(url, local_path)\n",
        "else:\n",
        "    print('Dataset already exists at', local_path)\n",
        "\n",
        "text = local_path.read_text()\n",
        "print('dataset length (chars):', len(text))\n",
        "\n",
        "# build vocab\n",
        "chars = sorted(list(set(text)))\n",
        "vocab_size = len(chars)\n",
        "print('vocab size:', vocab_size)\n",
        "stoi = {ch:i for i,ch in enumerate(chars)}\n",
        "itos = {i:ch for ch,i in stoi.items()}\n",
        "\n",
        "# dataset\n",
        "class CharDataset(Dataset):\n",
        "    def __init__(self, data, seq_len=100):\n",
        "        self.seq_len = seq_len\n",
        "        self.data = data\n",
        "        self.ids = [stoi[c] for c in data]\n",
        "    def __len__(self):\n",
        "        return 5000\n",
        "    def __getitem__(self, idx):\n",
        "        x = torch.tensor(self.ids[idx:idx+self.seq_len], dtype=torch.long)\n",
        "        y = torch.tensor(self.ids[idx+1:idx+self.seq_len+1], dtype=torch.long)\n",
        "        return x, y\n",
        "\n",
        "# quick smoke\n",
        "ds = CharDataset(text, seq_len=64)\n",
        "print('dataset len', len(ds))\n",
        "print('example shapes', ds[0][0].shape, ds[0][1].shape)\n"
      ]
    },
    {
      "cell_type": "markdown",
      "id": "7527bd44",
      "metadata": {
        "id": "7527bd44"
      },
      "source": [
        "## 6) Training both models and comparing performance\n",
        "\n",
        "We'll:\n",
        "- Instantiate **our** `SimpleTransformerEncoder` and a **packed** `nn.Transformer` style model (using `nn.TransformerEncoder`).\n",
        "- Train for a small number of steps/epochs to demonstrate training behavior.\n",
        "\n",
        "**Warning:** full training can be slow. The provided defaults are small so the notebook runs in reasonable time on CPU. Increase model sizes only if you have GPU and time.\n"
      ]
    },
    {
      "cell_type": "code",
      "execution_count": null,
      "id": "451ff415",
      "metadata": {
        "id": "451ff415"
      },
      "outputs": [],
      "source": [
        "import time\n",
        "import torch\n",
        "import torch.nn as nn\n",
        "from torch.utils.data import DataLoader\n",
        "from tqdm import tqdm\n",
        "# -----------------------------\n",
        "# Training & evaluation utilities\n",
        "# -----------------------------\n",
        "def train_epoch(model, dataloader, optimizer, device):\n",
        "    model.train()\n",
        "    total_loss = 0.0\n",
        "    criterion = nn.CrossEntropyLoss()\n",
        "    for xb, yb in tqdm(dataloader):\n",
        "        xb, yb = xb.to(device), yb.to(device)\n",
        "        optimizer.zero_grad()\n",
        "        logits = model(xb)  # [B, T, V]\n",
        "        B, T, V = logits.shape\n",
        "        loss = criterion(logits.view(B*T, V), yb.view(B*T))\n",
        "        loss.backward()\n",
        "        optimizer.step()\n",
        "        total_loss += loss.item()\n",
        "    return total_loss / len(dataloader)\n",
        "\n",
        "\n",
        "def evaluate(model, dataloader, device):\n",
        "    model.eval()\n",
        "    total_loss = 0.0\n",
        "    criterion = nn.CrossEntropyLoss()\n",
        "    with torch.no_grad():\n",
        "        for xb, yb in tqdm(dataloader):\n",
        "            xb, yb = xb.to(device), yb.to(device)\n",
        "            logits = model(xb)\n",
        "            B, T, V = logits.shape\n",
        "            loss = criterion(logits.view(B*T, V), yb.view(B*T))\n",
        "            total_loss += loss.item()\n",
        "    return total_loss / len(dataloader)\n",
        "\n",
        "\n",
        "# -----------------------------\n",
        "# Setup device, data, model\n",
        "# -----------------------------\n",
        "device = torch.device(\"cuda\" if torch.cuda.is_available() else \"cpu\")\n",
        "seq_len = 64\n",
        "batch_size = 16\n",
        "\n",
        "# Dataloaders\n",
        "full_dataset = CharDataset(text, seq_len=seq_len)\n",
        "train_loader = DataLoader(full_dataset, batch_size=batch_size, shuffle=True)\n",
        "val_loader = DataLoader(full_dataset, batch_size=batch_size)\n",
        "\n",
        "# Our custom Transformer\n",
        "model = SimpleTransformerEncoder(\n",
        "    vocab_size=vocab_size,\n",
        "    d_model=64,\n",
        "    num_heads=4,\n",
        "    d_ff=256,\n",
        "    num_layers=2,\n",
        "    max_len=512\n",
        ").to(device)\n",
        "optimizer = torch.optim.Adam(model.parameters(), lr=1e-3)\n",
        "\n",
        "\n",
        "# -----------------------------\n",
        "# Training loop with loss recording\n",
        "# -----------------------------\n",
        "epochs = 5\n",
        "train_losses = []\n",
        "val_losses = []\n",
        "\n",
        "for epoch in range(1, epochs + 1):\n",
        "    t0 = time.time()\n",
        "    train_loss = train_epoch(model, train_loader, optimizer, device)\n",
        "    val_loss = evaluate(model, val_loader, device)\n",
        "    t1 = time.time()\n",
        "\n",
        "    train_losses.append(train_loss)\n",
        "    val_losses.append(val_loss)\n",
        "\n",
        "    print(\n",
        "        f\"Epoch {epoch} | time {t1-t0:.1f}s | \"\n",
        "        f\"train loss {train_loss:.4f} | val loss {val_loss:.4f}\"\n",
        "    )\n",
        "\n",
        "print(\"Training finished.\")\n",
        "\n"
      ]
    },
    {
      "cell_type": "code",
      "execution_count": null,
      "id": "612666aa",
      "metadata": {
        "id": "612666aa"
      },
      "outputs": [],
      "source": [
        "# -----------------------------\n",
        "# Plot losses\n",
        "# -----------------------------\n",
        "import matplotlib.pyplot as plt\n",
        "plt.figure(figsize=(8,5))\n",
        "plt.plot(range(1, epochs+1), train_losses, marker='o', label='Train Loss')\n",
        "plt.plot(range(1, epochs+1), val_losses, marker='o', label='Validation Loss')\n",
        "plt.xlabel('Epoch')\n",
        "plt.ylabel('Loss')\n",
        "plt.title('Training and Validation Loss')\n",
        "plt.legend()\n",
        "plt.grid(True)\n",
        "plt.show()"
      ]
    },
    {
      "cell_type": "markdown",
      "metadata": {
        "id": "26ejoSCy2NnS"
      },
      "source": [
        "# 7) Decoder and Masking\n",
        "\n",
        "This section fills in the missing **decoder** and **masking** pieces for our mini-Transformer tutorial.\n",
        "\n",
        "**Goals**\n",
        "- Understand *why* we need **masked self‑attention** (a.k.a. look‑ahead/causal mask) in the decoder.\n",
        "- Build a clean **`DecoderLayer`** with both self‑attention and cross‑attention.\n",
        "- Implement practical **mask utilities**: subsequent mask (causal) and padding masks.\n",
        "- Verify masks via a small **visualization demo**.\n",
        "- Practice with short **exercises** (and reference answers)."
      ],
      "id": "26ejoSCy2NnS"
    },
    {
      "cell_type": "markdown",
      "metadata": {
        "id": "Ud-oCAjS2NnS"
      },
      "source": [
        "## 7.1 Why masking in the decoder?\n",
        "\n",
        "During sequence generation, the decoder predicts token *t* using only tokens **≤ t**. To enforce this, we apply a **look‑ahead (causal) mask** so position *t* cannot attend to positions *> t*.  \n",
        "We also apply **padding masks** to ignore `<pad>` tokens when sequences have different lengths.\n",
        "\n",
        "Let $Q,K,V \\in \\mathbb{R}^{T \\times d}$. Scaled dot‑product attention is\n",
        "$\\mathrm{softmax}((QK^\\top)/\\sqrt{d_k} + M)V,$\n",
        "where $M_{ij}=-\\infty$ if position $i$ is **not allowed** to see $j$ (future tokens or pads), and 0 otherwise."
      ],
      "id": "Ud-oCAjS2NnS"
    },
    {
      "cell_type": "markdown",
      "metadata": {
        "id": "ClGymty82NnT"
      },
      "source": [
        "## 7.2 Mask utilities\n",
        "\n",
        "We implement:\n",
        "- **`generate_square_subsequent_mask(L)`** → a boolean matrix shaped `[L, L]` that masks *future* tokens (upper triangular).\n",
        "- **`make_padding_mask(tokens, pad_idx=0)`** → a boolean matrix shaped `[B, L]` that masks pad positions per batch."
      ],
      "id": "ClGymty82NnT"
    },
    {
      "cell_type": "code",
      "execution_count": 7,
      "metadata": {
        "id": "AwlkhX982NnT"
      },
      "outputs": [],
      "source": [
        "import torch\n",
        "import torch.nn as nn\n",
        "import torch.nn.functional as F\n",
        "\n",
        "def generate_square_subsequent_mask(L: int, device=None):\n",
        "    \"\"\"\n",
        "    Causal (look-ahead) mask for decoder self-attention.\n",
        "    Returns a [L, L] boolean tensor where True means \"mask out\".\n",
        "    \"\"\"\n",
        "    m = torch.triu(torch.ones((L, L), device=device, dtype=torch.bool), diagonal=1)\n",
        "    return m  # True above the diagonal -> disallow attending to future\n",
        "\n",
        "def make_padding_mask(tokens: torch.Tensor, pad_idx: int = 0):\n",
        "    \"\"\"\n",
        "    tokens: LongTensor [B, L]\n",
        "    Returns: BoolTensor [B, L], True for pad positions.\n",
        "    \"\"\"\n",
        "    return tokens.eq(pad_idx)"
      ],
      "id": "AwlkhX982NnT"
    },
    {
      "cell_type": "markdown",
      "metadata": {
        "id": "6gYbGPEg2NnU"
      },
      "source": [
        "## 7.3 A minimal `DecoderLayer`\n",
        "\n",
        "This layer stacks:\n",
        "1) **Masked self‑attention** over the target sequence  \n",
        "2) **Cross‑attention** that queries the encoder output (\"memory\")  \n",
        "3) A position‑wise feed‑forward network  \n",
        "\n",
        "Each sublayer has residual + layer norm."
      ],
      "id": "6gYbGPEg2NnU"
    },
    {
      "cell_type": "code",
      "execution_count": 8,
      "metadata": {
        "id": "DZh2CXuJ2NnU"
      },
      "outputs": [],
      "source": [
        "class DecoderLayer(nn.Module):\n",
        "    def __init__(self, d_model: int, nhead: int, dim_feedforward: int = 2048, dropout: float = 0.1):\n",
        "        super().__init__()\n",
        "        self.self_attn = nn.MultiheadAttention(d_model, nhead, dropout=dropout, batch_first=True)\n",
        "        self.cross_attn = nn.MultiheadAttention(d_model, nhead, dropout=dropout, batch_first=True)\n",
        "\n",
        "        self.linear1 = nn.Linear(d_model, dim_feedforward)\n",
        "        self.dropout = nn.Dropout(dropout)\n",
        "        self.linear2 = nn.Linear(dim_feedforward, d_model)\n",
        "\n",
        "        self.norm1 = nn.LayerNorm(d_model)\n",
        "        self.norm2 = nn.LayerNorm(d_model)\n",
        "        self.norm3 = nn.LayerNorm(d_model)\n",
        "\n",
        "        self.dropout1 = nn.Dropout(dropout)\n",
        "        self.dropout2 = nn.Dropout(dropout)\n",
        "        self.dropout3 = nn.Dropout(dropout)\n",
        "\n",
        "        self.activation = F.gelu\n",
        "\n",
        "    def forward(\n",
        "        self,\n",
        "        tgt,                       # [B, Lt, d]\n",
        "        memory,                    # [B, Ls, d] encoder outputs\n",
        "        tgt_mask=None,             # [Lt, Lt]   (causal)\n",
        "        tgt_key_padding_mask=None, # [B, Lt]\n",
        "        memory_key_padding_mask=None # [B, Ls]\n",
        "    ):\n",
        "        # 1) masked self-attention\n",
        "        x = tgt\n",
        "        _sa_out, _ = self.self_attn(\n",
        "            x, x, x,\n",
        "            attn_mask=tgt_mask,\n",
        "            key_padding_mask=tgt_key_padding_mask,\n",
        "            need_weights=False\n",
        "        )\n",
        "        x = x + self.dropout1(_sa_out)\n",
        "        x = self.norm1(x)\n",
        "\n",
        "        # 2) cross-attention\n",
        "        _ca_out, _ = self.cross_attn(\n",
        "            x, memory, memory,\n",
        "            key_padding_mask=memory_key_padding_mask,\n",
        "            need_weights=False\n",
        "        )\n",
        "        x = x + self.dropout2(_ca_out)\n",
        "        x = self.norm2(x)\n",
        "\n",
        "        # 3) feed-forward\n",
        "        _ff = self.linear2(self.dropout(self.activation(self.linear1(x))))\n",
        "        x = x + self.dropout3(_ff)\n",
        "        x = self.norm3(x)\n",
        "        return x"
      ],
      "id": "DZh2CXuJ2NnU"
    },
    {
      "cell_type": "code",
      "execution_count": null,
      "metadata": {
        "id": "y_qFW6q82NnV"
      },
      "outputs": [],
      "source": [
        "class Decoder(nn.Module):\n",
        "    def __init__(self, d_model: int, nhead: int, num_layers: int, dim_feedforward: int = 2048, dropout: float = 0.1):\n",
        "        super().__init__()\n",
        "        self.layers = nn.ModuleList([\n",
        "            DecoderLayer(d_model, nhead, dim_feedforward, dropout) for _ in range(num_layers)\n",
        "        ])\n",
        "        self.norm = nn.LayerNorm(d_model)\n",
        "\n",
        "    def forward(self, tgt, memory, tgt_mask=None, tgt_key_padding_mask=None, memory_key_padding_mask=None):\n",
        "        x = tgt\n",
        "        for layer in self.layers:\n",
        "            x = layer(\n",
        "                x, memory,\n",
        "                tgt_mask=tgt_mask,\n",
        "                tgt_key_padding_mask=tgt_key_padding_mask,\n",
        "                memory_key_padding_mask=memory_key_padding_mask\n",
        "            )\n",
        "        return self.norm(x)"
      ],
      "id": "y_qFW6q82NnV"
    },
    {
      "cell_type": "markdown",
      "metadata": {
        "id": "T_3PMZmk2NnW"
      },
      "source": [
        "## 7.4 Demo: Visualize the causal mask\n",
        "\n",
        "We show the boolean **subsequent mask** and verify attention cannot see future tokens."
      ],
      "id": "T_3PMZmk2NnW"
    },
    {
      "cell_type": "code",
      "execution_count": 9,
      "metadata": {
        "colab": {
          "base_uri": "https://localhost:8080/",
          "height": 363
        },
        "id": "m6mtIy4J2NnW",
        "outputId": "43dbb49e-ee65-472f-8e90-ab2a323801be"
      },
      "outputs": [
        {
          "output_type": "display_data",
          "data": {
            "text/plain": [
              "<Figure size 400x400 with 2 Axes>"
            ],
            "image/png": "[encoded data removed]"
          },
          "metadata": {}
        }
      ],
      "source": [
        "import matplotlib.pyplot as plt\n",
        "\n",
        "L = 10\n",
        "mask = generate_square_subsequent_mask(L)\n",
        "plt.figure(figsize=(4,4))\n",
        "plt.imshow(mask.cpu().numpy(), interpolation='nearest')\n",
        "plt.title(\"Causal (look-ahead) mask: True=blocked\")\n",
        "plt.xlabel(\"Key positions j\")\n",
        "plt.ylabel(\"Query positions i\")\n",
        "plt.colorbar()\n",
        "plt.show()"
      ],
      "id": "m6mtIy4J2NnW"
    },
    {
      "cell_type": "markdown",
      "metadata": {
        "id": "FrY_JI0Z2NnX"
      },
      "source": [
        "### Exercise 1 (masking)\n",
        "\n",
        "Implement a function `apply_causal_mask(scores)` that sets the *upper triangle* of the `[L, L]` attention score matrix to `-inf` so softmax will zero it out.\n",
        "\n",
        "**Hint:** use `torch.triu` with `diagonal=1`.\n",
        "\n",
        "*(Write your solution in the next cell. An answer is provided after it.)*"
      ],
      "id": "FrY_JI0Z2NnX"
    },
    {
      "cell_type": "code",
      "execution_count": 11,
      "metadata": {
        "id": "REbJjdGN2NnX"
      },
      "outputs": [],
      "source": [
        "# TODO: Your implementation here\n",
        "import torch\n",
        "\n",
        "def apply_causal_mask(scores: torch.Tensor):\n",
        "    \"\"\"\n",
        "    scores: [L, L] float tensor (single head for simplicity)\n",
        "    Return: masked scores\n",
        "    \"\"\"\n",
        "    L = scores.size(-1)\n",
        "    # --- your code ---\n",
        "    raise NotImplementedError(\"Fill the causal mask here\")"
      ],
      "id": "REbJjdGN2NnX"
    },
    {
      "cell_type": "markdown",
      "metadata": {
        "id": "ocjzEpZK2NnY"
      },
      "source": [
        "**Answer (Exercise 1):**"
      ],
      "id": "ocjzEpZK2NnY"
    },
    {
      "cell_type": "code",
      "execution_count": 12,
      "metadata": {
        "colab": {
          "base_uri": "https://localhost:8080/"
        },
        "id": "4wU3Le-C2NnY",
        "outputId": "cf50c33b-0636-4b8e-9ad8-acb8cbba7848"
      },
      "outputs": [
        {
          "output_type": "stream",
          "name": "stdout",
          "text": [
            "Upper triangle is -inf: True\n"
          ]
        }
      ],
      "source": [
        "def apply_causal_mask(scores: torch.Tensor):\n",
        "    L = scores.size(-1)\n",
        "    mask = torch.triu(torch.ones(L, L, dtype=torch.bool, device=scores.device), diagonal=1)\n",
        "    scores = scores.masked_fill(mask, float(\"-inf\"))\n",
        "    return scores\n",
        "\n",
        "# quick test\n",
        "torch.manual_seed(0)\n",
        "S = torch.randn(5,5)\n",
        "Sm = apply_causal_mask(S.clone())\n",
        "print(\"Upper triangle is -inf:\", torch.isinf(Sm).sum().item() == (5*4)//2)"
      ],
      "id": "4wU3Le-C2NnY"
    },
    {
      "cell_type": "markdown",
      "metadata": {
        "id": "gCBteFNK2NnZ"
      },
      "source": [
        "### Exercise 2 (decoder step)\n",
        "\n",
        "Given `tgt` (decoder inputs) and `memory` (encoder outputs), run one **`DecoderLayer`** with a correct **`tgt_mask`** from `generate_square_subsequent_mask`.\n",
        "\n",
        "*(Write your solution in the next cell. An answer is provided after it.)*"
      ],
      "id": "gCBteFNK2NnZ"
    },
    {
      "cell_type": "code",
      "execution_count": 13,
      "metadata": {
        "id": "HEuoIQoi2NnZ"
      },
      "outputs": [],
      "source": [
        "# TODO: Your implementation here\n",
        "B, Lt, Ls, d_model, nhead = 2, 7, 9, 32, 4\n",
        "torch.manual_seed(0)\n",
        "tgt = torch.randn(B, Lt, d_model)\n",
        "memory = torch.randn(B, Ls, d_model)\n",
        "\n",
        "layer = DecoderLayer(d_model, nhead, dim_feedforward=64, dropout=0.0)\n",
        "\n",
        "# --- your code ---\n",
        "# x = layer(...)\n",
        "# print(x.shape)  # expect [B, Lt, d_model]"
      ],
      "id": "HEuoIQoi2NnZ"
    },
    {
      "cell_type": "markdown",
      "metadata": {
        "id": "n1hy9bFN2Nna"
      },
      "source": [
        "**Answer (Exercise 2):**"
      ],
      "id": "n1hy9bFN2Nna"
    },
    {
      "cell_type": "code",
      "execution_count": 14,
      "metadata": {
        "colab": {
          "base_uri": "https://localhost:8080/"
        },
        "id": "qlYCmv8-2Nna",
        "outputId": "7c2f2253-d278-4a4a-cf50-a1a168b76ac4"
      },
      "outputs": [
        {
          "output_type": "stream",
          "name": "stdout",
          "text": [
            "torch.Size([2, 7, 32])\n"
          ]
        }
      ],
      "source": [
        "B, Lt, Ls, d_model, nhead = 2, 7, 9, 32, 4\n",
        "torch.manual_seed(0)\n",
        "tgt = torch.randn(B, Lt, d_model)\n",
        "memory = torch.randn(B, Ls, d_model)\n",
        "\n",
        "layer = DecoderLayer(d_model, nhead, dim_feedforward=64, dropout=0.0)\n",
        "tgt_mask = generate_square_subsequent_mask(Lt)\n",
        "\n",
        "x = layer(tgt, memory, tgt_mask=tgt_mask)\n",
        "print(x.shape)"
      ],
      "id": "qlYCmv8-2Nna"
    },
    {
      "cell_type": "markdown",
      "metadata": {
        "id": "mrlnraTc2Nnb"
      },
      "source": [
        "## 7.6 How to plug into your existing encoder\n",
        "\n",
        "If you already built an **`Encoder`** in previous sections, you can integrate as follows:\n",
        "\n",
        "```python\n",
        "# Encode source tokens\n",
        "src_emb = src_embed(src_tokens) + pos_embed_src  # [B, Ls, d]\n",
        "memory = encoder(src_emb, src_key_padding_mask=src_pad_mask)\n",
        "\n",
        "# Prepare decoder inputs (shifted right with <bos>), add positions\n",
        "tgt_inp = tgt_embed(tgt_tokens_in) + pos_embed_tgt  # [B, Lt, d]\n",
        "\n",
        "# Masks\n",
        "tgt_mask = generate_square_subsequent_mask(Lt)\n",
        "tgt_pad_mask = make_padding_mask(tgt_tokens_in, pad_idx=PAD)\n",
        "\n",
        "# Decode\n",
        "dec_out = decoder(tgt_inp, memory, tgt_mask=tgt_mask, tgt_key_padding_mask=tgt_pad_mask,\n",
        "                  memory_key_padding_mask=src_pad_mask)\n",
        "logits = final_proj(dec_out)  # [B, Lt, vocab]\n",
        "```\n",
        "> **Tip:** For auto‑regressive *inference*, you typically loop token‑by‑token and only pass the prefix to the decoder, re‑using cached keys/values for speed."
      ],
      "id": "mrlnraTc2Nnb"
    },
    {
      "cell_type": "code",
      "source": [],
      "metadata": {
        "id": "qASwZhNz3k0S"
      },
      "id": "qASwZhNz3k0S",
      "execution_count": null,
      "outputs": []
    },
    {
      "cell_type": "markdown",
      "source": [
        "# 8) defining transformers in real-world situations"
      ],
      "metadata": {
        "id": "spoI3rC43-mi"
      },
      "id": "spoI3rC43-mi"
    },
    {
      "cell_type": "code",
      "source": [
        "import torch\n",
        "import torch.nn as nn\n",
        "import torch.nn.functional as F\n",
        "\n",
        "class TransformerModel(nn.Module):\n",
        "    def __init__(self, vocab_size, d_model=256, nhead=8, num_encoder_layers=3,\n",
        "                 num_decoder_layers=3, dim_feedforward=512, max_len=100, dropout=0.1):\n",
        "        super().__init__()\n",
        "        self.embedding = nn.Embedding(vocab_size, d_model)\n",
        "        self.pos_embedding = nn.Embedding(max_len, d_model)\n",
        "        self.transformer = nn.Transformer(\n",
        "            d_model=d_model,\n",
        "            nhead=nhead,\n",
        "            num_encoder_layers=num_encoder_layers,\n",
        "            num_decoder_layers=num_decoder_layers,\n",
        "            dim_feedforward=dim_feedforward,\n",
        "            dropout=dropout,\n",
        "            batch_first=True  # (B, L, D)\n",
        "        )\n",
        "        self.fc_out = nn.Linear(d_model, vocab_size)\n",
        "\n",
        "    def forward(self, src, tgt):\n",
        "        B, Ls = src.shape\n",
        "        _, Lt = tgt.shape\n",
        "        device = src.device\n",
        "\n",
        "        # Positional indices\n",
        "        src_pos = torch.arange(Ls, device=device).unsqueeze(0).expand(B, Ls)\n",
        "        tgt_pos = torch.arange(Lt, device=device).unsqueeze(0).expand(B, Lt)\n",
        "\n",
        "        # Embedding + Position\n",
        "        src_emb = self.embedding(src) + self.pos_embedding(src_pos)\n",
        "        tgt_emb = self.embedding(tgt) + self.pos_embedding(tgt_pos)\n",
        "\n",
        "        # Mask for auto-regressive decoding\n",
        "        tgt_mask = nn.Transformer.generate_square_subsequent_mask(Lt).to(device)\n",
        "\n",
        "        out = self.transformer(src_emb, tgt_emb, tgt_mask=tgt_mask)\n",
        "        logits = self.fc_out(out)\n",
        "        return logits\n"
      ],
      "metadata": {
        "id": "UpNawgeE4CZQ"
      },
      "id": "UpNawgeE4CZQ",
      "execution_count": null,
      "outputs": []
    }
  ],
  "metadata": {
    "kernelspec": {
      "display_name": "base",
      "language": "python",
      "name": "python3"
    },
    "language_info": {
      "codemirror_mode": {
        "name": "ipython",
        "version": 3
      },
      "file_extension": ".py",
      "mimetype": "text/x-python",
      "name": "python",
      "nbconvert_exporter": "python",
      "pygments_lexer": "ipython3",
      "version": "3.11.4"
    },
    "colab": {
      "provenance": []
    }
  },
  "nbformat": 4,
  "nbformat_minor": 5
}