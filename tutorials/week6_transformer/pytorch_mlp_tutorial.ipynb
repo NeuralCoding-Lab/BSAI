{
 "cells": [
  {
   "cell_type": "markdown",
   "id": "a40da6b9",
   "metadata": {},
   "source": [
    "\n",
    "# PyTorch Multilayer Perceptron (MLP) Tutorial\n",
    "\n",
    "This notebook will guide you through building and training a simple **Multilayer Perceptron (MLP)** in PyTorch.\n",
    "We'll use a toy dataset (`make_moons`) for visualization and understanding.\n"
   ]
  },
  {
   "cell_type": "code",
   "execution_count": null,
   "id": "c70f625d",
   "metadata": {},
   "outputs": [],
   "source": [
    "\n",
    "import torch\n",
    "import torch.nn as nn\n",
    "import torch.optim as optim\n",
    "from sklearn.datasets import make_moons\n",
    "from sklearn.model_selection import train_test_split\n",
    "import matplotlib.pyplot as plt\n",
    "import numpy as np\n"
   ]
  },
  {
   "cell_type": "markdown",
   "id": "8d403f98",
   "metadata": {},
   "source": [
    "## 1 Create a Toy Dataset"
   ]
  },
  {
   "cell_type": "code",
   "execution_count": null,
   "id": "4744dc57",
   "metadata": {},
   "outputs": [],
   "source": [
    "\n",
    "X, y = make_moons(n_samples=1000, noise=0.2, random_state=42)\n",
    "X = torch.tensor(X, dtype=torch.float32)\n",
    "y = torch.tensor(y, dtype=torch.long)\n",
    "\n",
    "X_train, X_test, y_train, y_test = train_test_split(X, y, test_size=0.2, random_state=42)\n",
    "\n",
    "plt.scatter(X_train[:,0], X_train[:,1], c=y_train, cmap='viridis', edgecolor='k')\n",
    "plt.title('Training Data (Two Moons)')\n",
    "plt.show()\n"
   ]
  },
  {
   "cell_type": "markdown",
   "id": "b2d945dc",
   "metadata": {},
   "source": [
    "## 2 Define the MLP Model"
   ]
  },
  {
   "cell_type": "code",
   "execution_count": null,
   "id": "d6d63d8f",
   "metadata": {},
   "outputs": [],
   "source": [
    "\n",
    "class MLP(nn.Module):\n",
    "    def __init__(self, input_dim, hidden_dim, output_dim):\n",
    "        super(MLP, self).__init__()\n",
    "        self.layers = nn.Sequential(\n",
    "            nn.Linear(input_dim, hidden_dim),\n",
    "            nn.ReLU(),\n",
    "            nn.Linear(hidden_dim, output_dim)\n",
    "        )\n",
    "    \n",
    "    def forward(self, x):\n",
    "        return self.layers(x)\n",
    "\n",
    "model = MLP(input_dim=2, hidden_dim=16, output_dim=2)\n",
    "print(model)\n"
   ]
  },
  {
   "cell_type": "markdown",
   "id": "00f1b33c",
   "metadata": {},
   "source": [
    "## 3 Define Loss Function and Optimizer"
   ]
  },
  {
   "cell_type": "code",
   "execution_count": null,
   "id": "f5329ff2",
   "metadata": {},
   "outputs": [],
   "source": [
    "\n",
    "criterion = nn.CrossEntropyLoss()\n",
    "optimizer = optim.Adam(model.parameters(), lr=0.01)\n"
   ]
  },
  {
   "cell_type": "markdown",
   "id": "cd17a1a7",
   "metadata": {},
   "source": [
    "## 4 Train the Model"
   ]
  },
  {
   "cell_type": "code",
   "execution_count": null,
   "id": "470a1a74",
   "metadata": {},
   "outputs": [],
   "source": [
    "\n",
    "epochs = 100\n",
    "for epoch in range(epochs):\n",
    "    outputs = model(X_train)\n",
    "    loss = criterion(outputs, y_train)\n",
    "    \n",
    "    optimizer.zero_grad()\n",
    "    loss.backward()\n",
    "    optimizer.step()\n",
    "    \n",
    "    if (epoch + 1) % 10 == 0:\n",
    "        print(f\"Epoch [{epoch+1}/{epochs}], Loss: {loss.item():.4f}\")\n"
   ]
  },
  {
   "cell_type": "markdown",
   "id": "b17a5b90",
   "metadata": {},
   "source": [
    "## 5 Evaluate Model Accuracy"
   ]
  },
  {
   "cell_type": "code",
   "execution_count": null,
   "id": "3f525d31",
   "metadata": {},
   "outputs": [],
   "source": [
    "\n",
    "with torch.no_grad():\n",
    "    preds = model(X_test)\n",
    "    predicted = torch.argmax(preds, dim=1)\n",
    "    acc = (predicted == y_test).float().mean()\n",
    "    print(f\"Test Accuracy: {acc:.4f}\")\n"
   ]
  },
  {
   "cell_type": "markdown",
   "id": "d5deabc4",
   "metadata": {},
   "source": [
    "## 6 Visualize Decision Boundary"
   ]
  },
  {
   "cell_type": "code",
   "execution_count": null,
   "id": "c7c04715",
   "metadata": {},
   "outputs": [],
   "source": [
    "\n",
    "xx, yy = np.meshgrid(np.linspace(-2, 3, 100), np.linspace(-1.5, 2, 100))\n",
    "grid = torch.tensor(np.c_[xx.ravel(), yy.ravel()], dtype=torch.float32)\n",
    "with torch.no_grad():\n",
    "    Z = torch.argmax(model(grid), dim=1).reshape(xx.shape)\n",
    "\n",
    "plt.contourf(xx, yy, Z, alpha=0.5, cmap='viridis')\n",
    "plt.scatter(X_test[:,0], X_test[:,1], c=y_test, edgecolor='k')\n",
    "plt.title(\"MLP Decision Boundary\")\n",
    "plt.show()\n"
   ]
  },
  {
   "cell_type": "markdown",
   "id": "211e9617",
   "metadata": {},
   "source": [
    "## Exercises"
   ]
  },
  {
   "cell_type": "markdown",
   "id": "a905fb07",
   "metadata": {},
   "source": [
    "### Exercise 1\n",
    "Modify the MLP to have **two hidden layers** with dimensions `[16, 8]` and ReLU activations.\n"
   ]
  },
  {
   "cell_type": "markdown",
   "id": "ce1e8084",
   "metadata": {},
   "source": [
    "### Exercise 2\n",
    "Try replacing `ReLU` with `nn.Tanh()`. How does accuracy change?"
   ]
  },
  {
   "cell_type": "markdown",
   "id": "8b671cbb",
   "metadata": {},
   "source": [
    "### Exercise 3\n",
    "Add **L2 regularization (weight decay)** to the optimizer and observe its effect."
   ]
  }
 ],
 "metadata": {
  "language_info": {
   "name": "python"
  }
 },
 "nbformat": 4,
 "nbformat_minor": 5
}
